{
 "cells": [
  {
   "cell_type": "code",
   "execution_count": 24,
   "metadata": {},
   "outputs": [],
   "source": [
    "import pysam"
   ]
  },
  {
   "cell_type": "code",
   "execution_count": 29,
   "metadata": {},
   "outputs": [],
   "source": [
    "samfile = pysam.AlignmentFile(\"../bowtie_test/fly_sorted.bam\", \"rb\")"
   ]
  },
  {
   "cell_type": "code",
   "execution_count": 26,
   "metadata": {},
   "outputs": [
    {
     "name": "stdout",
     "output_type": "stream",
     "text": [
      "137384\n"
     ]
    }
   ],
   "source": [
    "# Get all mapped reads\n",
    "mapped_reads =[]\n",
    "\n",
    "for read in samfile.fetch():\n",
    "    if not read.is_unmapped:\n",
    "        mapped_reads.append(read)\n",
    "        \n",
    "print(len(mapped_reads))"
   ]
  },
  {
   "cell_type": "code",
   "execution_count": 40,
   "metadata": {},
   "outputs": [
    {
     "name": "stdout",
     "output_type": "stream",
     "text": [
      "ERR305399.4374922\t89\t0\t161\t0\t76M\t0\t161\t76\tTACGAGACCGTTTCTGGAGGAGGTGGGTCATGGAGTACCTGCCTACGCTTGTGCGCCGCGAGAAGTGGTGCCGCCG\tarray('B', [2, 2, 32, 28, 28, 29, 19, 19, 20, 29, 25, 10, 10, 23, 27, 30, 29, 29, 32, 30, 29, 33, 26, 22, 28, 32, 29, 29, 24, 22, 17, 28, 25, 19, 25, 28, 16, 31, 29, 28, 30, 29, 29, 29, 18, 28, 32, 27, 27, 25, 29, 32, 32, 30, 30, 32, 32, 32, 29, 29, 32, 29, 33, 28, 28, 27, 32, 32, 28, 32, 30, 29, 33, 31, 33, 33])\t[('AS', -33), ('XN', 0), ('XM', 8), ('XO', 0), ('XG', 0), ('NM', 8), ('MD', '1G14A5A3C43A0A1A0A1'), ('YT', 'UP')]\n"
     ]
    }
   ],
   "source": [
    "# Example of a read\n",
    "print(mapped_reads[0])"
   ]
  },
  {
   "cell_type": "code",
   "execution_count": 78,
   "metadata": {},
   "outputs": [
    {
     "name": "stdout",
     "output_type": "stream",
     "text": [
      "Rev fw 19462. Fw fw 0. Rev rev 0. Fw rev 22589\n"
     ]
    }
   ],
   "source": [
    "# Looking at a region with predicted gene\n",
    "\n",
    "cols = []\n",
    "for pileupcolumn in samfile.pileup(\"4\", 155151, 164760):\n",
    "    if pileupcolumn.pileups != []:\n",
    "        cols.append(pileupcolumn.pileups)\n",
    "    \n",
    "read1s =[]\n",
    "    \n",
    "for col in cols:\n",
    "    for read in col:\n",
    "        if read.alignment.is_read1:\n",
    "            read1s.append(read.alignment)\n",
    "first_rev_sec_fw = 0\n",
    "first_fw_sec_fw = 0\n",
    "first_rev_sec_rev = 0\n",
    "first_fw_sec_rev = 0\n",
    "undecided = 0\n",
    "\n",
    "for seg in read1s:\n",
    "    if seg.is_reverse and not seg.mate_is_reverse:\n",
    "        first_rev_sec_fw += 1\n",
    "    elif not seg.is_reverse and not seg.mate_is_reverse:\n",
    "        first_fw_sec_fw += 1\n",
    "    elif seg.is_reverse and seg.mate_is_reverse:\n",
    "        first_rev_sec_rev +=1\n",
    "    elif not seg.is_reverse and seg.mate_is_reverse:\n",
    "        first_fw_sec_rev  +=1\n",
    "    else:\n",
    "        undecided +=1\n",
    "        \n",
    "print('Rev fw %d. Fw fw %d. Rev rev %d. Fw rev %d' % (first_rev_sec_fw, first_fw_sec_fw, first_rev_sec_rev, first_fw_sec_rev))"
   ]
  },
  {
   "cell_type": "markdown",
   "metadata": {},
   "source": [
    "### So fr-unstranded I guess?"
   ]
  },
  {
   "cell_type": "code",
   "execution_count": null,
   "metadata": {},
   "outputs": [],
   "source": []
  }
 ],
 "metadata": {
  "kernelspec": {
   "display_name": "Python 3",
   "language": "python",
   "name": "python3"
  },
  "language_info": {
   "codemirror_mode": {
    "name": "ipython",
    "version": 3
   },
   "file_extension": ".py",
   "mimetype": "text/x-python",
   "name": "python",
   "nbconvert_exporter": "python",
   "pygments_lexer": "ipython3",
   "version": "3.6.6"
  }
 },
 "nbformat": 4,
 "nbformat_minor": 2
}
