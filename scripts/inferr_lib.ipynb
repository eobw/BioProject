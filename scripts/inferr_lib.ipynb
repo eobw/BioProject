{
 "cells": [
  {
   "cell_type": "code",
   "execution_count": 1,
   "metadata": {},
   "outputs": [],
   "source": [
    "# Import stuff\n",
    "\n",
    "import re\n",
    "from BCBio import GFF\n",
    "from Bio.Seq import Seq\n",
    "from Bio.SeqRecord import SeqRecord\n",
    "from Bio.SeqFeature import SeqFeature, FeatureLocation\n",
    "import pysam"
   ]
  },
  {
   "cell_type": "markdown",
   "metadata": {},
   "source": [
    "## Functions"
   ]
  },
  {
   "cell_type": "code",
   "execution_count": 2,
   "metadata": {},
   "outputs": [],
   "source": [
    "def extract_genes():\n",
    "    '''\n",
    "    Function for extracting genes corresponding to BUSCO hits.\n",
    "    Returns a SeqRecord object with one feature per BUSCO hit.\n",
    "    '''\n",
    "    # TODO: File path based on run name, take as input to the function\n",
    "    file_tsv = open(\"../run_4_gen/full_table_4.tsv\", 'r')\n",
    "\n",
    "    # Extract BUSCO IDs, start and end from table of hits into SeqRecord object, each BUSCO as a SeqFeature\n",
    "    busco_record = SeqRecord(seq='', id='hits')\n",
    "    for line in file_tsv.readlines():\n",
    "        hit = (re.search(r'(\\S*)\\sComplete\\s(\\S*)\\s(\\S*)\\s(\\S*)\\s\\S*', line))\n",
    "        if hit:\n",
    "            busco_record.features.append(SeqFeature(FeatureLocation(int(hit.group(3)), int(hit.group(4))), id=hit.group(1), type='gene', qualifiers={'contig': hit.group(2)}))\n",
    "\n",
    "    file_tsv.close()\n",
    "\n",
    "    # Match the BUSCOs to augustus predicted genes in gff file\n",
    "    gff_records = []\n",
    "    correct_genes = SeqRecord(seq='', id='correct_genes')\n",
    "    limit_infos = dict(\n",
    "            gff_type = [\"gene\"]) # Only want genes\n",
    "\n",
    "    for busco in busco_record.features:\n",
    "        filename = busco.id # gff filenames are {busco_id}.out.1\n",
    "        i = 1\n",
    "        while True:\n",
    "            try:\n",
    "                file_gff = open(\"../run_4_gen/augustus_output/predicted_genes/\"+filename+\".out.\"+str(i))\n",
    "                for record in GFF.parse(file_gff, limit_info=limit_infos):\n",
    "                    gff_records.append(record)\n",
    "                i += 1\n",
    "            except: # read all files for that BUSCO\n",
    "                break\n",
    "\n",
    "    # Find augustus predicted genes from the gff that match BUSCOs\n",
    "    for rec in gff_records:\n",
    "        for hit in busco_record.features:\n",
    "            for feature in rec.features:\n",
    "                if hit.location.start-1 == feature.location.start and hit.location.end == feature.location.end: # For some reason start has 1 nt diff...\n",
    "                    #feature.qualifiers = {'contig': rec.id}\n",
    "                    feature.id = rec.id # save as qualifier or id?\n",
    "                    correct_genes.features.append(feature)\n",
    "                    break\n",
    "\n",
    "    file_gff.close()\n",
    "    return correct_genes"
   ]
  },
  {
   "cell_type": "code",
   "execution_count": 3,
   "metadata": {
    "scrolled": true
   },
   "outputs": [],
   "source": [
    "def extract_mapped():\n",
    "    '''\n",
    "    Function used to extract only reads mapped to a reference.\n",
    "    Really slow, only used to minimize the reads dataset\n",
    "    '''\n",
    "    pairedreads = pysam.AlignmentFile(\"allpaired2.bam\", \"wb\", template=samfile)\n",
    "    mapped_reads =[]\n",
    "\n",
    "    for read in samfile.fetch():\n",
    "        # Probably stupidly long if-statement\n",
    "        if read.is_read1 and not read.is_secondary and not read.is_unmapped and not read.mate_is_unmapped and read not in mapped_reads:\n",
    "            mapped_reads.append(read)\n",
    "            pairedreads.write(read)\n",
    "            print(read)\n",
    "            print(samfile.mate(read))\n",
    "            pairedreads.write(samfile.mate(read))\n",
    "\n",
    "    return mapped_reads"
   ]
  },
  {
   "cell_type": "code",
   "execution_count": 10,
   "metadata": {},
   "outputs": [],
   "source": [
    "def infer_region(contig, start, stop, strand):\n",
    "    '''\n",
    "    Function inferring lib-type of a specific region\n",
    "    '''\n",
    "    reads = []\n",
    "    # Get reads mapped to a specific contig and in a sequence range\n",
    "    for read in samfile.fetch(contig, start, stop):\n",
    "        if not read.mate_is_unmapped and read.is_read1:\n",
    "            reads.append([read, samfile.mate(read)])\n",
    "\n",
    "    # Counters for the different lib-types   \n",
    "    libs = {\n",
    "        'fr_first': 0,\n",
    "        'fr_second': 0,\n",
    "        'rf_first': 0,\n",
    "        'rf_second': 0,\n",
    "        'ff_first': 0,\n",
    "        'ff_second': 0,\n",
    "        'undecided': 0\n",
    "    }\n",
    "    \n",
    "    if strand == 1: # Gene on plus strand\n",
    "        # Check lib-type of reads \n",
    "        # TODO: check if the reads are in-or outfacing\n",
    "        for read in reads:\n",
    "            first = read[0]\n",
    "            second = read[1]\n",
    "            try:\n",
    "                lib = ''\n",
    "                if not first.is_reverse:\n",
    "                    lib += 'f'\n",
    "                else: \n",
    "                    lib += 'r'\n",
    "                if not second.is_reverse:\n",
    "                    lib += 'f'\n",
    "                else: \n",
    "                    lib += 'r'\n",
    "                # TODO: Make sure firststrand and secondstrand are correctly assigned\n",
    "                if first.reference_start > second.reference_start:\n",
    "                    lib = lib[::-1]\n",
    "                    lib += '_first'\n",
    "                elif first.reference_start < second.reference_start:\n",
    "                    lib += '_second'\n",
    "                else:\n",
    "                    undecided +=1\n",
    "                libs[lib] += 1\n",
    "            except: libs['undecided'] +=1 # Some reads missing start or end-values\n",
    "    #elif strand == -1: # Gene on minus strand\n",
    "        # TODO: reverse counting\n",
    "\n",
    "    \n",
    "    return [reads, libs]"
   ]
  },
  {
   "cell_type": "markdown",
   "metadata": {},
   "source": [
    "## Running"
   ]
  },
  {
   "cell_type": "code",
   "execution_count": 5,
   "metadata": {},
   "outputs": [],
   "source": [
    "# bam-file with mapped reads\n",
    "samfile = pysam.AlignmentFile(\"../bowtie_test/fly_sorted.bam\", \"rb\")"
   ]
  },
  {
   "cell_type": "code",
   "execution_count": 6,
   "metadata": {},
   "outputs": [],
   "source": [
    "test = extract_genes()"
   ]
  },
  {
   "cell_type": "code",
   "execution_count": 7,
   "metadata": {},
   "outputs": [
    {
     "name": "stdout",
     "output_type": "stream",
     "text": [
      "ID: correct_genes\n",
      "Name: <unknown name>\n",
      "Description: <unknown description>\n",
      "Number of features: 2\n",
      "''\n"
     ]
    }
   ],
   "source": [
    "print(test)"
   ]
  },
  {
   "cell_type": "code",
   "execution_count": 8,
   "metadata": {},
   "outputs": [
    {
     "data": {
      "text/plain": [
       "1"
      ]
     },
     "execution_count": 8,
     "metadata": {},
     "output_type": "execute_result"
    }
   ],
   "source": [
    "test.features[0].strand"
   ]
  },
  {
   "cell_type": "code",
   "execution_count": 12,
   "metadata": {},
   "outputs": [],
   "source": [
    "# TODO: Implement get_location for contig, start and end from each gene\n",
    "[reads, libs] = infer_region('4', 155151, 164760, 1)\n"
   ]
  },
  {
   "cell_type": "code",
   "execution_count": 13,
   "metadata": {},
   "outputs": [
    {
     "name": "stdout",
     "output_type": "stream",
     "text": [
      "{'fr_first': 271, 'fr_second': 318, 'rf_first': 3, 'rf_second': 0, 'ff_first': 0, 'ff_second': 0, 'undecided': 46}\n"
     ]
    }
   ],
   "source": [
    "print(libs)"
   ]
  },
  {
   "cell_type": "markdown",
   "metadata": {},
   "source": [
    "Seems correct, found one of the rf-first when quickly looking at the mapping in IGV. "
   ]
  },
  {
   "cell_type": "code",
   "execution_count": null,
   "metadata": {},
   "outputs": [],
   "source": []
  }
 ],
 "metadata": {
  "kernelspec": {
   "display_name": "Python 3",
   "language": "python",
   "name": "python3"
  },
  "language_info": {
   "codemirror_mode": {
    "name": "ipython",
    "version": 3
   },
   "file_extension": ".py",
   "mimetype": "text/x-python",
   "name": "python",
   "nbconvert_exporter": "python",
   "pygments_lexer": "ipython3",
   "version": "3.6.6"
  }
 },
 "nbformat": 4,
 "nbformat_minor": 2
}
