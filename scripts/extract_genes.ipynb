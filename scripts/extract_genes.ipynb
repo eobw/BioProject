{
 "cells": [
  {
   "cell_type": "code",
   "execution_count": 14,
   "metadata": {},
   "outputs": [],
   "source": [
    "# Import stuff\n",
    "\n",
    "import re\n",
    "from BCBio import GFF\n",
    "from Bio.Seq import Seq\n",
    "from Bio.SeqRecord import SeqRecord\n",
    "from Bio.SeqFeature import SeqFeature, FeatureLocation\n",
    "\n"
   ]
  },
  {
   "cell_type": "code",
   "execution_count": 39,
   "metadata": {},
   "outputs": [
    {
     "name": "stdout",
     "output_type": "stream",
     "text": [
      "type: gene\n",
      "location: [155153:164760]\n",
      "id: EOG093701EE\n",
      "qualifiers:\n",
      "    Key: contig, Value: 4\n",
      "\n"
     ]
    }
   ],
   "source": [
    "# Read files\n",
    "\n",
    "file_tsv = open(\"../run_4_gen/full_table_4.tsv\", 'r')\n",
    "\n",
    "\n",
    "# Extract BUSCO IDs, start and end from table of hits into SeqRecord object, each BUSCO as a SeqFeature\n",
    "\n",
    "hit_rec = SeqRecord(seq='', id='hits')\n",
    "for line in file_tsv.readlines():\n",
    "    hit = (re.search(r'(\\S*)\\sComplete\\s(\\S*)\\s(\\S*)\\s(\\S*)\\s\\S*', line))\n",
    "    if hit:\n",
    "        hit_rec.features.append(SeqFeature(FeatureLocation(int(hit.group(3)), int(hit.group(4))), id=hit.group(1), type='gene', qualifiers={'contig': hit.group(2)}))\n",
    "        \n",
    "                    \n",
    "print(hit_rec.features[0])\n",
    "\n",
    "#file_tsv.close()"
   ]
  },
  {
   "cell_type": "code",
   "execution_count": 44,
   "metadata": {},
   "outputs": [
    {
     "name": "stdout",
     "output_type": "stream",
     "text": [
      "type: gene\n",
      "location: [155153:164760]\n",
      "id: EOG093701EE\n",
      "qualifiers:\n",
      "    Key: contig, Value: 4\n",
      "\n",
      "type: gene\n",
      "location: [155152:164760](+)\n",
      "qualifiers:\n",
      "    Key: g1, Value: ['true']\n",
      "    Key: score, Value: ['0.01']\n",
      "    Key: source, Value: ['AUGUSTUS']\n",
      "\n"
     ]
    }
   ],
   "source": [
    "\n",
    "# Match the BUSCOs to augustus predicted genes in gff file\n",
    "file_gff = open(\"../run_4_gen/augustus_output/predicted_genes/EOG093701EE.out.1\") # TODO: Read files corresponding to BUSCO id\n",
    "\n",
    "limit_info = dict(\n",
    "        gff_type = [\"gene\"]) # Only want genes\n",
    "\n",
    "\n",
    "# Find augustus predicted genes from the gff that match BUSCOs\n",
    "for rec in GFF.parse(file_gff, limit_info=limit_info):\n",
    "    for hit in hit_rec.features:\n",
    "        if hit.location.end == rec.features[0].location.end: # TODO: check start and stop, right now start has 1 nt diff...\n",
    "            print(hit)\n",
    "            print(rec.features[0])\n",
    "#file_gff.close()\n",
    "\n",
    "# Is the BUSCO id needed for further analysis?  Don't think so"
   ]
  },
  {
   "cell_type": "code",
   "execution_count": null,
   "metadata": {},
   "outputs": [],
   "source": []
  }
 ],
 "metadata": {
  "kernelspec": {
   "display_name": "Python 3",
   "language": "python",
   "name": "python3"
  },
  "language_info": {
   "codemirror_mode": {
    "name": "ipython",
    "version": 3
   },
   "file_extension": ".py",
   "mimetype": "text/x-python",
   "name": "python",
   "nbconvert_exporter": "python",
   "pygments_lexer": "ipython3",
   "version": "3.6.6"
  }
 },
 "nbformat": 4,
 "nbformat_minor": 2
}
