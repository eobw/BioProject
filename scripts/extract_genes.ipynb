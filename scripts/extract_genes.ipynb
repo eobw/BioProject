{
 "cells": [
  {
   "cell_type": "code",
   "execution_count": 14,
   "metadata": {},
   "outputs": [],
   "source": [
    "# Import stuff\n",
    "\n",
    "import re\n",
    "from BCBio import GFF\n",
    "from Bio.Seq import Seq\n",
    "from Bio.SeqRecord import SeqRecord\n",
    "from Bio.SeqFeature import SeqFeature, FeatureLocation\n",
    "\n"
   ]
  },
  {
   "cell_type": "code",
   "execution_count": 78,
   "metadata": {},
   "outputs": [
    {
     "name": "stdout",
     "output_type": "stream",
     "text": [
      "ID: hits\n",
      "Name: <unknown name>\n",
      "Description: <unknown description>\n",
      "Number of features: 264\n",
      "''\n"
     ]
    }
   ],
   "source": [
    "# Read files\n",
    "\n",
    "file_tsv = open(\"../run_dros_genome/full_table_dros.tsv\", 'r')\n",
    "\n",
    "\n",
    "# Extract BUSCO IDs, start and end from table of hits into SeqRecord object, each BUSCO as a SeqFeature\n",
    "\n",
    "hit_rec = SeqRecord(seq='', id='hits')\n",
    "for line in file_tsv.readlines():\n",
    "    hit = (re.search(r'(\\S*)\\sComplete\\s(\\S*)\\s(\\S*)\\s(\\S*)\\s\\S*', line))\n",
    "    if hit:\n",
    "        hit_rec.features.append(SeqFeature(FeatureLocation(int(hit.group(3)), int(hit.group(4))), id=hit.group(1), type='gene', qualifiers={'contig': hit.group(2)}))\n",
    "        \n",
    "                    \n",
    "print(hit_rec)\n",
    "\n",
    "#file_tsv.close()"
   ]
  },
  {
   "cell_type": "code",
   "execution_count": 88,
   "metadata": {},
   "outputs": [
    {
     "name": "stdout",
     "output_type": "stream",
     "text": [
      "ID: correct_genes\n",
      "Name: <unknown name>\n",
      "Description: <unknown description>\n",
      "Number of features: 279\n",
      "''\n"
     ]
    }
   ],
   "source": [
    "\n",
    "# Match the BUSCOs to augustus predicted genes in gff file\n",
    "gff_recs = []\n",
    "correct_genes = SeqRecord(seq='', id='correct_genes')\n",
    "limit_info = dict(\n",
    "        gff_type = [\"gene\"]) # Only want genes\n",
    "\n",
    "\n",
    "for busco in hit_rec.features:\n",
    "    filename = busco.id # gff filenames are {busco_id}.out.1\n",
    "    i = 1\n",
    "    while True:\n",
    "        try:\n",
    "            file_gff = open(\"../run_dros_genome/augustus_output/predicted_genes/\"+filename+\".out.\"+str(i))\n",
    "            for record in GFF.parse(file_gff, limit_info=limit_info):\n",
    "                gff_recs.append(record)\n",
    "            i += 1\n",
    "        except: # read all files for that BUSCO\n",
    "            break\n",
    "        \n",
    "\n",
    "# Find augustus predicted genes from the gff that match BUSCOs\n",
    "for rec in gff_recs:\n",
    "    for hit in hit_rec.features:\n",
    "        for feature in rec.features:\n",
    "            if hit.location.start-1 == feature.location.start and hit.location.end == feature.location.end: # For some reason start has 1 nt diff...\n",
    "                correct_genes.features.append(feature)\n",
    "                break\n",
    "\n",
    "\n",
    "print(correct_genes)\n",
    "#file_gff.close()\n",
    "\n",
    "# Is the BUSCO id needed for further analysis?  Don't think so"
   ]
  },
  {
   "cell_type": "code",
   "execution_count": null,
   "metadata": {},
   "outputs": [],
   "source": []
  }
 ],
 "metadata": {
  "kernelspec": {
   "display_name": "Python 3",
   "language": "python",
   "name": "python3"
  },
  "language_info": {
   "codemirror_mode": {
    "name": "ipython",
    "version": 3
   },
   "file_extension": ".py",
   "mimetype": "text/x-python",
   "name": "python",
   "nbconvert_exporter": "python",
   "pygments_lexer": "ipython3",
   "version": "3.6.6"
  }
 },
 "nbformat": 4,
 "nbformat_minor": 2
}
